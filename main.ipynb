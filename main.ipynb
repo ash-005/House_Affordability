{
 "cells": [
  {
   "cell_type": "code",
   "execution_count": 28,
   "metadata": {
    "id": "PAmnXP84JFEV"
   },
   "outputs": [],
   "source": [
    "import joblib\n",
    "import pandas as pd\n",
    "from joblib import load"
   ]
  },
  {
   "cell_type": "code",
   "execution_count": null,
   "metadata": {
    "id": "MMO6-0-KJBoE"
   },
   "outputs": [],
   "source": [
    "## Load the saved model\n",
    "model = load('best_classification_model.joblib')\n",
    "## NEW DATA TO TEST THE MODEL\n",
    "new_data = pd.DataFrame({\n",
    "    'longitude': [-122.23],\n",
    "    'latitude': [37.88],\n",
    "    'housing_median_age': [41.0],\n",
    "    'total_rooms': [880.0],\n",
    "    'total_bedrooms': [129.0],\n",
    "    'population': [322.0],\n",
    "    'households': [126.0],\n",
    "    'median_income': [8.3252],\n",
    "    'rooms_per_household': [880.0 / 126.0],\n",
    "    'population_per_household': [322.0 / 126.0],\n",
    "    'bedrooms_per_room': [129.0 / 880.0],\n",
    "    'ocean_proximity_INLAND': [1],\n",
    "    'ocean_proximity_ISLAND': [0],\n",
    "    'ocean_proximity_NEAR BAY': [0],\n",
    "    'ocean_proximity_NEAR OCEAN': [0]\n",
    "})\n",
    "# Make predictions\n",
    "predictions = model.predict(new_data)"
   ]
  },
  {
   "cell_type": "code",
   "execution_count": 31,
   "metadata": {
    "colab": {
     "base_uri": "https://localhost:8080/"
    },
    "id": "nnSMAGXRJj7G",
    "outputId": "6d832ff4-d181-4d97-ac11-2173acb569d6"
   },
   "outputs": [
    {
     "data": {
      "text/plain": [
       "array([3])"
      ]
     },
     "execution_count": 31,
     "metadata": {},
     "output_type": "execute_result"
    }
   ],
   "source": [
    "predictions"
   ]
  },
  {
   "cell_type": "code",
   "execution_count": 32,
   "metadata": {
    "colab": {
     "base_uri": "https://localhost:8080/"
    },
    "id": "0F5xQJTqMX4m",
    "outputId": "7f73ce00-c448-4351-9707-1fdd74706642"
   },
   "outputs": [
    {
     "name": "stdout",
     "output_type": "stream",
     "text": [
      "Predicted house category: Luxury\n"
     ]
    }
   ],
   "source": [
    "house_category_mapping = {\n",
    "    1: \"Least Expensive\",\n",
    "    2: \"Affordable\",\n",
    "    3: \"Luxury\",\n",
    "    4: \"Expensive\"\n",
    "}\n",
    "\n",
    "predicted_category = predictions[0]\n",
    "print(\"Predicted house category:\", house_category_mapping.get(predicted_category))"
   ]
  }
 ],
 "metadata": {
  "colab": {
   "provenance": []
  },
  "kernelspec": {
   "display_name": "Python 3",
   "name": "python3"
  },
  "language_info": {
   "name": "python"
  }
 },
 "nbformat": 4,
 "nbformat_minor": 0
}
