{
 "cells": [
  {
   "cell_type": "code",
   "execution_count": 13,
   "metadata": {
    "id": "PAmnXP84JFEV"
   },
   "outputs": [],
   "source": [
    "import joblib\n",
    "import pandas as pd\n",
    "import numpy as np\n",
    "from joblib import load\n",
    "from sklearn.preprocessing import StandardScaler"
   ]
  },
  {
   "cell_type": "code",
   "execution_count": 14,
   "metadata": {
    "id": "MMO6-0-KJBoE"
   },
   "outputs": [],
   "source": [
    "## Load the saved model\n",
    "model = load('best_classification_model.joblib')\n",
    "## NEW DATA TO TEST THE MODEL\n",
    "new_data = pd.DataFrame({\n",
    "    'longitude': [-122.23],\n",
    "    'latitude': [37.88],\n",
    "    'housing_median_age': [41.0],\n",
    "    'total_rooms': [880.0],\n",
    "    'total_bedrooms': [129.0],\n",
    "    'population': [322.0],\n",
    "    'households': [126.0],\n",
    "    'median_income': [8.3252],\n",
    "    'rooms_per_household': [880.0 / 126.0],\n",
    "    'population_per_household': [322.0 / 126.0],\n",
    "    'bedrooms_per_room': [129.0 / 880.0],\n",
    "    'income_per_population': [8.3252 / 322.0],\n",
    "    'distance_from_center': [np.sqrt((-122.23)**2 + (37.88)**2)],\n",
    "    'ocean_proximity_INLAND': [0],\n",
    "    'ocean_proximity_ISLAND': [0],\n",
    "    'ocean_proximity_NEAR BAY': [1],\n",
    "    'ocean_proximity_NEAR OCEAN': [0]\n",
    "})\n",
    "\n"
   ]
  },
  {
   "cell_type": "code",
   "execution_count": 15,
   "metadata": {},
   "outputs": [],
   "source": [
    "\n",
    "predictions = model.predict(new_data)\n"
   ]
  },
  {
   "cell_type": "code",
   "execution_count": 16,
   "metadata": {},
   "outputs": [
    {
     "name": "stdout",
     "output_type": "stream",
     "text": [
      "Predicted House Category for new data: Luxury\n"
     ]
    }
   ],
   "source": [
    "\n",
    "category_mapping = {\n",
    "    0: \"Least Expensive\",\n",
    "    1: \"Affordable\",\n",
    "    2: \"Expensive\",\n",
    "    3: \"Luxury\"\n",
    "}\n",
    "\n",
    "mapped_predictions = [category_mapping[pred] for pred in predictions]\n",
    "\n",
    "print(\"Predicted House Category for new data:\", mapped_predictions[0])\n"
   ]
  }
 ],
 "metadata": {
  "colab": {
   "provenance": []
  },
  "kernelspec": {
   "display_name": "Python 3",
   "name": "python3"
  },
  "language_info": {
   "codemirror_mode": {
    "name": "ipython",
    "version": 3
   },
   "file_extension": ".py",
   "mimetype": "text/x-python",
   "name": "python",
   "nbconvert_exporter": "python",
   "pygments_lexer": "ipython3",
   "version": "3.11.6"
  }
 },
 "nbformat": 4,
 "nbformat_minor": 0
}
